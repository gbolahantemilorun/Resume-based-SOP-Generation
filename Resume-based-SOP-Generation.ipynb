{
 "cells": [
  {
   "cell_type": "markdown",
   "id": "b68d623d",
   "metadata": {},
   "source": [
    "### Import relevant libraries"
   ]
  },
  {
   "cell_type": "code",
   "execution_count": 1,
   "id": "4968921a",
   "metadata": {},
   "outputs": [],
   "source": [
    "import fitz\n",
    "import re\n",
    "import spacy\n",
    "import sys"
   ]
  },
  {
   "cell_type": "code",
   "execution_count": 2,
   "id": "ef27dfa3",
   "metadata": {},
   "outputs": [
    {
     "name": "stdout",
     "output_type": "stream",
     "text": [
      "C:\\Users\\SPESSE ENVIROMENT\\.conda\\envs\\mlopspycaret\\python.exe\n"
     ]
    }
   ],
   "source": [
    "# Print Python Interpreter Executable Path\n",
    "print(sys.executable)"
   ]
  },
  {
   "cell_type": "markdown",
   "id": "24e153d1",
   "metadata": {},
   "source": [
    "### Step 1: User Input"
   ]
  },
  {
   "cell_type": "code",
   "execution_count": 3,
   "id": "ad4c8c37",
   "metadata": {},
   "outputs": [],
   "source": [
    "# Create a variable for the file path\n",
    "file_path = \"sample_cv.pdf\""
   ]
  },
  {
   "cell_type": "code",
   "execution_count": 4,
   "id": "995dcb24",
   "metadata": {},
   "outputs": [],
   "source": [
    "# Open the file\n",
    "with open(file_path, \"rb\") as file:\n",
    "    pdf_content = file.read()"
   ]
  },
  {
   "cell_type": "markdown",
   "id": "abd1776f",
   "metadata": {},
   "source": [
    "### Step 2: Preprocess Data"
   ]
  },
  {
   "cell_type": "code",
   "execution_count": 5,
   "id": "45628fda",
   "metadata": {},
   "outputs": [],
   "source": [
    "# Define a function to extract text from the pdf using PYMUPDF\n",
    "def extract_text_from_pdf(pdf_content):\n",
    "    # Open the PDF document using PyMuPDF's fitz module\n",
    "    doc = fitz.open(\"pdf\", pdf_content)\n",
    "    \n",
    "    # Initialize an empty string to store the extracted text\n",
    "    text = \"\"\n",
    "    \n",
    "    # Iterate through each page of the PDF document\n",
    "    for page_num in range(doc.page_count):\n",
    "        # Retrieve the page using the page number\n",
    "        page = doc[page_num]\n",
    "        \n",
    "        # Get the text content of the page and append it to the 'text' variable\n",
    "        text += page.get_text()\n",
    "    \n",
    "    # Return the accumulated text from all pages\n",
    "    return text"
   ]
  },
  {
   "cell_type": "code",
   "execution_count": 6,
   "id": "760a0def",
   "metadata": {},
   "outputs": [],
   "source": [
    "# Call the function and assign it to a variable\n",
    "resume_text = extract_text_from_pdf(pdf_content)"
   ]
  },
  {
   "cell_type": "code",
   "execution_count": 7,
   "id": "1530a027",
   "metadata": {},
   "outputs": [
    {
     "data": {
      "text/plain": [
       "'NAME\\nTel: 0123456789\\nE-mail: 123@york.ac.uk\\nEDUCATION\\n2017 - 2020\\nB.Acc. (Hons) Accountancy, Business and Finance, University of York, United Kingdom\\n●\\nAverage grades: Year 1 - 72% Year 2 - 69%, Expected result: 1st\\n●\\nModules completed: Financial accounting, Taxation, Audit, Business statistics, Finance,\\nFinancial markets, Business law and Management\\n●\\nDeveloped strong numeracy skills, business and commercial awareness, and project\\nmanagement skills\\n●\\nAttained the highest mark in the year (77%) for delivering the presentation on Public\\nEvaluation of Corporations to a panel of lecturers\\n●\\nImproved leadership skills by leading a team in the inter-university Business Plan Game,\\nachieving the 3rd place out of forty\\n2015 - 2017\\nDiploma in Spanish and English Languages and English Literature, University of Barcelona,\\nSpain\\nRELEVANT WORK EXPERIENCE\\nSummer 2019\\nInternship, Business Growth Potential Project, Financial Services Authority, London and\\nEdinburgh\\n●\\nAs a part of the FSA’s Small Firms Division, coordinated a project which analysed Scottish\\nSMEs in the manufacturing sector to investigate business and investment growth potential\\n●\\nAnalysed growth potential across a wide range of markets\\n●\\nRan projects on day-to-day basis, presenting the findings to a panel of senior managers\\nmonthly\\n●\\nGained understanding of the FSA’s wider role through work shadowing\\nSummer 2018\\nBusiness Internship, Morgan Stanley, London\\n●\\nAs a part of the business support team, provided effective administration support for a range\\nof business areas in the Glasgow office\\n●\\nCollected and analysed data to facilitate the assessment of the areas of inefficiency\\n●\\nDeveloped awareness of several online software packages, MS Excel and Visio\\n●\\nFacilitated four large projects, such as the improvement of business processes through Six\\nSigma methodology\\n●\\nGained real life insight into the financial sector\\nADDITIONAL WORK EXPERIENCE\\n2018 - 2020\\nBarista/Supervisor, Costa, York\\n●\\nSupervised a team of six staff. Managing and delegating tasks, which required great flexibility\\nduring busy times\\n●\\nTrained all new employees on the correct procedures\\n●\\nOrdered and maintained stock, ensuring a high level of accuracy\\nACHIEVEMENTS & AWARDS\\nAcademic\\n●\\nCo-Winner of Project Prize for best team project in Business Plan Game competition-\\npresented at inter-university awards dinner (2019)\\n●\\nTop performing class awards for excellent grades (2015 and 2016)\\nSocieties\\n●\\nAfter being a residential volunteer at the RSPB reserve in York, launched a new\\nenvironmental society\\n●\\nRecruited 30 students in the first 5 months\\n●\\nOrganised species surveying and bird reserve maintenance projects\\nCommunity Involvement\\n●\\nCoordinated student fundraising activities for Cash for Kids and New Horizons Asylum\\nSeekers’ Project\\n●\\nRaised £800 for children of asylum seekers housed in Newcastle\\nSport\\n●\\nFrequently participated in the Sailing Club’s racing events, managing this alongside study and\\npart-time working\\n●\\nPart of the runner up team in the Universities League (2018)\\nSKILLS\\n●\\nAdvanced capability in all MS Office packages such as Excel, Powerpoint and Word.\\n●\\nEnglish – fluent  (CAE - Grade A)\\nPolish – native language\\nSpanish and Czech – intermediate reading, writing and spoken\\n'"
      ]
     },
     "execution_count": 7,
     "metadata": {},
     "output_type": "execute_result"
    }
   ],
   "source": [
    "# Display the extracted text\n",
    "resume_text"
   ]
  },
  {
   "cell_type": "code",
   "execution_count": 8,
   "id": "3c5893e7",
   "metadata": {},
   "outputs": [],
   "source": [
    "# Define a function to preprocess the extracted text\n",
    "def preprocess_resume_text(resume_text):\n",
    "    # Remove extra whitespaces, newlines, and other unnecessary characters\n",
    "    cleaned_text = re.sub(r'\\s+', ' ', resume_text).strip()\n",
    "    return cleaned_text"
   ]
  },
  {
   "cell_type": "code",
   "execution_count": 9,
   "id": "0d10f885",
   "metadata": {},
   "outputs": [],
   "source": [
    "# Call the function and assign it to a variable\n",
    "cleaned_resume_text = preprocess_resume_text(resume_text)"
   ]
  },
  {
   "cell_type": "code",
   "execution_count": 10,
   "id": "beed9e5d",
   "metadata": {},
   "outputs": [
    {
     "name": "stdout",
     "output_type": "stream",
     "text": [
      "NAME Tel: 0123456789 E-mail: 123@york.ac.uk EDUCATION 2017 - 2020 B.Acc. (Hons) Accountancy, Business and Finance, University of York, United Kingdom ● Average grades: Year 1 - 72% Year 2 - 69%, Expected result: 1st ● Modules completed: Financial accounting, Taxation, Audit, Business statistics, Finance, Financial markets, Business law and Management ● Developed strong numeracy skills, business and commercial awareness, and project management skills ● Attained the highest mark in the year (77%) for delivering the presentation on Public Evaluation of Corporations to a panel of lecturers ● Improved leadership skills by leading a team in the inter-university Business Plan Game, achieving the 3rd place out of forty 2015 - 2017 Diploma in Spanish and English Languages and English Literature, University of Barcelona, Spain RELEVANT WORK EXPERIENCE Summer 2019 Internship, Business Growth Potential Project, Financial Services Authority, London and Edinburgh ● As a part of the FSA’s Small Firms Division, coordinated a project which analysed Scottish SMEs in the manufacturing sector to investigate business and investment growth potential ● Analysed growth potential across a wide range of markets ● Ran projects on day-to-day basis, presenting the findings to a panel of senior managers monthly ● Gained understanding of the FSA’s wider role through work shadowing Summer 2018 Business Internship, Morgan Stanley, London ● As a part of the business support team, provided effective administration support for a range of business areas in the Glasgow office ● Collected and analysed data to facilitate the assessment of the areas of inefficiency ● Developed awareness of several online software packages, MS Excel and Visio ● Facilitated four large projects, such as the improvement of business processes through Six Sigma methodology ● Gained real life insight into the financial sector ADDITIONAL WORK EXPERIENCE 2018 - 2020 Barista/Supervisor, Costa, York ● Supervised a team of six staff. Managing and delegating tasks, which required great flexibility during busy times ● Trained all new employees on the correct procedures ● Ordered and maintained stock, ensuring a high level of accuracy ACHIEVEMENTS & AWARDS Academic ● Co-Winner of Project Prize for best team project in Business Plan Game competition- presented at inter-university awards dinner (2019) ● Top performing class awards for excellent grades (2015 and 2016) Societies ● After being a residential volunteer at the RSPB reserve in York, launched a new environmental society ● Recruited 30 students in the first 5 months ● Organised species surveying and bird reserve maintenance projects Community Involvement ● Coordinated student fundraising activities for Cash for Kids and New Horizons Asylum Seekers’ Project ● Raised £800 for children of asylum seekers housed in Newcastle Sport ● Frequently participated in the Sailing Club’s racing events, managing this alongside study and part-time working ● Part of the runner up team in the Universities League (2018) SKILLS ● Advanced capability in all MS Office packages such as Excel, Powerpoint and Word. ● English – fluent (CAE - Grade A) Polish – native language Spanish and Czech – intermediate reading, writing and spoken\n"
     ]
    }
   ],
   "source": [
    "# Display the preprocessed text\n",
    "print(cleaned_resume_text)"
   ]
  },
  {
   "cell_type": "markdown",
   "id": "adba265e",
   "metadata": {},
   "source": [
    "### Step 3: Extract Field of Study and University using spaCy (pre-trained NER Model)"
   ]
  },
  {
   "cell_type": "code",
   "execution_count": 11,
   "id": "365dc2d7",
   "metadata": {},
   "outputs": [],
   "source": [
    "# Load the spaCy English language model\n",
    "nlp = spacy.load(\"en_core_web_sm\")"
   ]
  },
  {
   "cell_type": "code",
   "execution_count": 12,
   "id": "88c0a1a9",
   "metadata": {},
   "outputs": [],
   "source": [
    "# Define a function to extract information from the resume text\n",
    "def extract_information(resume_text):\n",
    "    # Process the resume text with spaCy\n",
    "    doc = nlp(resume_text)\n",
    "    \n",
    "    # Extract relevant information (e.g., education, work experience, skills)\n",
    "    # Using more general spaCy labels like \"DATE\" and \"ORG\" for education and experience\n",
    "    education = [item.text for item in doc.ents if item.label_ == \"DATE\" or item.label_ == \"ORG\"]\n",
    "    experience = [item.text for item in doc.ents if item.label_ == \"DATE\" or item.label_ == \"ORG\"]\n",
    "    skills = [item.text for item in doc.ents if item.label_ == \"SKILL\" or item.label_ == \"ORG\"]\n",
    "    \n",
    "    # Return the extracted information\n",
    "    return education, experience, skills"
   ]
  },
  {
   "cell_type": "code",
   "execution_count": 13,
   "id": "6d0db554",
   "metadata": {},
   "outputs": [],
   "source": [
    "# Call the function with the cleaned resume text\n",
    "education_info, experience_info, skills_info = extract_information(cleaned_resume_text)"
   ]
  },
  {
   "cell_type": "code",
   "execution_count": 14,
   "id": "ef3a6b24",
   "metadata": {},
   "outputs": [
    {
     "name": "stdout",
     "output_type": "stream",
     "text": [
      "Education: ['2017 - 2020', 'Business and Finance', 'University of York', 'Year 1 - 72%', 'Year 2 - 69%', 'Taxation, Audit, Business statistics', 'Finance', 'the year', 'forty 2015 - 2017', 'English Literature', 'University of Barcelona', 'Summer 2019', 'Internship, Business Growth Potential Project', 'Financial Services Authority', 'FSA', 'Small Firms Division', 'day', 'monthly', 'FSA', 'Morgan Stanley', 'MS Excel', '2018 - 2020', 'York', 'ACHIEVEMENTS & AWARDS Academic ● Co-Winner', 'Business Plan Game', 'inter-university', '2019', '2015', 'the first 5 months', 'Community Involvement ● Coordinated', 'the Sailing Club’s', 'the Universities League', '2018', 'MS Office', 'CAE - Grade A']\n",
      "Experience: ['2017 - 2020', 'Business and Finance', 'University of York', 'Year 1 - 72%', 'Year 2 - 69%', 'Taxation, Audit, Business statistics', 'Finance', 'the year', 'forty 2015 - 2017', 'English Literature', 'University of Barcelona', 'Summer 2019', 'Internship, Business Growth Potential Project', 'Financial Services Authority', 'FSA', 'Small Firms Division', 'day', 'monthly', 'FSA', 'Morgan Stanley', 'MS Excel', '2018 - 2020', 'York', 'ACHIEVEMENTS & AWARDS Academic ● Co-Winner', 'Business Plan Game', 'inter-university', '2019', '2015', 'the first 5 months', 'Community Involvement ● Coordinated', 'the Sailing Club’s', 'the Universities League', '2018', 'MS Office', 'CAE - Grade A']\n",
      "Skills: ['Business and Finance', 'University of York', 'Taxation, Audit, Business statistics', 'Finance', 'English Literature', 'University of Barcelona', 'Internship, Business Growth Potential Project', 'Financial Services Authority', 'FSA', 'Small Firms Division', 'FSA', 'Morgan Stanley', 'MS Excel', 'York', 'ACHIEVEMENTS & AWARDS Academic ● Co-Winner', 'Business Plan Game', 'inter-university', 'Community Involvement ● Coordinated', 'the Sailing Club’s', 'the Universities League', 'MS Office', 'CAE - Grade A']\n"
     ]
    }
   ],
   "source": [
    "# Print the extracted information\n",
    "print(\"Education:\", education_info)\n",
    "print(\"Experience:\", experience_info)\n",
    "print(\"Skills:\", skills_info)"
   ]
  }
 ],
 "metadata": {
  "kernelspec": {
   "display_name": "Python 3 (ipykernel)",
   "language": "python",
   "name": "python3"
  },
  "language_info": {
   "codemirror_mode": {
    "name": "ipython",
    "version": 3
   },
   "file_extension": ".py",
   "mimetype": "text/x-python",
   "name": "python",
   "nbconvert_exporter": "python",
   "pygments_lexer": "ipython3",
   "version": "3.9.18"
  }
 },
 "nbformat": 4,
 "nbformat_minor": 5
}
